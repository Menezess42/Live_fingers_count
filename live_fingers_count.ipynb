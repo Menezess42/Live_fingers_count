{
 "cells": [
  {
   "cell_type": "code",
   "execution_count": 24,
   "metadata": {},
   "outputs": [],
   "source": [
    "import cv2\n",
    "import numpy as np\n",
    "from sklearn.metrics import pairwise"
   ]
  },
  {
   "cell_type": "code",
   "execution_count": 85,
   "metadata": {},
   "outputs": [],
   "source": [
    "background = None\n",
    "\n",
    "accumulated_weight = 0.5\n",
    "\n",
    "# red square where you put your hand in\n",
    "roi_top = 10\n",
    "roi_bottom = 300\n",
    "roi_rigt = 300\n",
    "roi_left = 650"
   ]
  },
  {
   "cell_type": "code",
   "execution_count": 86,
   "metadata": {},
   "outputs": [],
   "source": [
    "# find the avarage background value\n",
    "def calculate_accumulate_avarage(frame,accumulated_weight):\n",
    "    global background\n",
    "    if background is None:\n",
    "        background = frame.copy().astype('float')\n",
    "        return None\n",
    "    \n",
    "    cv2.accumulateWeighted(frame,background,accumulated_weight)"
   ]
  },
  {
   "cell_type": "code",
   "execution_count": 87,
   "metadata": {},
   "outputs": [],
   "source": [
    "def segment(frame,threshold=25):\n",
    "    diff = cv2.absdiff(background.astype('uint8'),frame) # absolute difference between background and frame\n",
    "    \n",
    "    ret,thresholded=cv2.threshold(diff,threshold,255,cv2.THRESH_BINARY) # this function calcas the threshold of the diff, we pass\n",
    "                                                                        # threshold as min, the 255 as max and the type of calculation\n",
    "                                                                        # we want. \n",
    "    \n",
    "    contours, hierarchy = cv2.findContours(thresholded.copy(),cv2.RETR_EXTERNAL,cv2.CHAIN_APPROX_SIMPLE) # heare we find the contours of\n",
    "                                                                                                         # the hand\n",
    "    \n",
    "    if len(contours) == 0: # If the hand contours are not found, we return none.\n",
    "        return None\n",
    "\n",
    "    else: # we return the hand segment. that is the max value of the list of contours.\n",
    "        hand_segment = max(contours,key=cv2.contourArea)\n",
    "        \n",
    "        return (thresholded,hand_segment)"
   ]
  },
  {
   "cell_type": "code",
   "execution_count": 93,
   "metadata": {},
   "outputs": [],
   "source": [
    "def count_fingers(thresholded,hand_segment):\n",
    "    conv_hull = cv2.convexHull(hand_segment) # Conv_hull draws a polygon by connecting points around\n",
    "                                             # the most exernal points in a frame.\n",
    "    \n",
    "    top = tuple(conv_hull[conv_hull[:,:,1].argmin()][0]) # most extreme point up\n",
    "    bottom = tuple(conv_hull[conv_hull[:,:,1].argmax()][0]) # most extreme point down\n",
    "    left = tuple(conv_hull[conv_hull[:,:,0].argmin()][0]) # most extreme point left\n",
    "    right = tuple(conv_hull[conv_hull[:,:,0].argmax()][0]) # most extreme point right\n",
    "    \n",
    "    center_x = (left[0]+right[0])//2 # calc the center of the line between left and right points\n",
    "    center_y = (top[1]+bottom[1])//2 # calc the center of the line between top and bottom points\n",
    "    \n",
    "    distance = pairwise.euclidean_distances([(center_x, center_y)],Y=[left,right,top,bottom])[0] # we calc the extreme distance to the\n",
    "                                                                                                 # center.\n",
    "    max_distance = distance.max() \n",
    "    \n",
    "    radius = int(0.7*max_distance) # We use that distance to choose the radius of the circle. What's outside the circle \n",
    "                                    # is the fingers up.\n",
    "    circumfrence = (2*np.pi*radius)\n",
    "    \n",
    "    circular_roi = np.zeros(thresholded.shape[:2],dtype='uint8')\n",
    "    \n",
    "    cv2.circle(circular_roi, (center_x, center_y), radius,255,10)\n",
    "    \n",
    "    circular_roi = cv2.bitwise_and(thresholded,thresholded,mask=circular_roi)\n",
    "    countors,hierarchy = cv2.findContours(circular_roi.copy(),cv2.RETR_EXTERNAL,cv2.CHAIN_APPROX_NONE)\n",
    "    \n",
    "    f_count = 0\n",
    "    \n",
    "    for cnt in countors: # function to count the fingers (anything that is off the circular_roi)\n",
    "        (x,y,w,h) = cv2.boundingRect(cnt)\n",
    "        \n",
    "        out_of_wrist = (center_y+(center_y*0.25))>(y+h)\n",
    "        \n",
    "        limit_points = ((circumfrence*0.25)>cnt.shape[0])\n",
    "        \n",
    "        if out_of_wrist and limit_points:\n",
    "            f_count += 1\n",
    "            \n",
    "    return f_count"
   ]
  },
  {
   "cell_type": "code",
   "execution_count": 94,
   "metadata": {},
   "outputs": [],
   "source": [
    "cam = cv2.VideoCapture(0)\n",
    "\n",
    "number_of_frames = 0\n",
    "\n",
    "while True:\n",
    "    ret, frame = cam.read()\n",
    "    frame_copy = frame.copy()\n",
    "    \n",
    "    roi = frame[roi_top:roi_bottom,roi_rigt:roi_left]\n",
    "    \n",
    "    gray = cv2.cvtColor(roi,cv2.COLOR_BGR2GRAY)\n",
    "    gray = cv2.GaussianBlur(gray,(7,7),0)\n",
    "    \n",
    "    if number_of_frames < 60:\n",
    "        calculate_accumulate_avarage(gray,accumulated_weight)\n",
    "        \n",
    "        if number_of_frames<=59:\n",
    "            cv2.putText(frame_copy,'Getting Background', (200,300),cv2.FONT_HERSHEY_SIMPLEX,1,(0,0,255),2)\n",
    "            cv2.imshow('finger count', frame_copy)\n",
    "    else:\n",
    "        hand = segment(gray)\n",
    "        \n",
    "        if hand is not None:\n",
    "            threshholded, hand_segment = hand\n",
    "            \n",
    "            cv2.drawContours(frame_copy,[hand_segment+(roi_rigt,roi_top)],-1,(255,0,0),5)\n",
    "            \n",
    "            fingers = count_fingers(threshholded, hand_segment)\n",
    "            \n",
    "            cv2.putText(frame_copy,str(fingers),(70,50),cv2.FONT_HERSHEY_SIMPLEX,1,(0,0,255),2)\n",
    "            \n",
    "            cv2.imshow('Threshold',threshholded)\n",
    "            \n",
    "    cv2.rectangle(frame_copy,(roi_left,roi_top),(roi_rigt,roi_bottom),(0,0,255),5)\n",
    "    \n",
    "    number_of_frames+=1\n",
    "    \n",
    "    cv2.imshow('Finger Count',frame_copy)\n",
    "    \n",
    "    k = cv2.waitKey(1) & 0xFF\n",
    "    \n",
    "    if k==27:\n",
    "        break\n",
    "    \n",
    "cam.release()\n",
    "cv2.destroyAllWindows()"
   ]
  }
 ],
 "metadata": {
  "kernelspec": {
   "display_name": "Python 3",
   "language": "python",
   "name": "python3"
  },
  "language_info": {
   "codemirror_mode": {
    "name": "ipython",
    "version": 3
   },
   "file_extension": ".py",
   "mimetype": "text/x-python",
   "name": "python",
   "nbconvert_exporter": "python",
   "pygments_lexer": "ipython3",
   "version": "3.10.9"
  },
  "orig_nbformat": 4,
  "vscode": {
   "interpreter": {
    "hash": "e038e575f35dd289d7e3684377dff5dd74a086626e6db16524b72780456b9adf"
   }
  }
 },
 "nbformat": 4,
 "nbformat_minor": 2
}
